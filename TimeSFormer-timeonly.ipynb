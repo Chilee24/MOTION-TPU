{
 "cells": [
  {
   "cell_type": "code",
   "execution_count": 2,
   "metadata": {},
   "outputs": [
    {
     "name": "stdout",
     "output_type": "stream",
     "text": [
      "Loads checkpoint by local backend from path: /mnt/c/Users/PCM/Documents/GitHub/VideoUnderstanding/sapiens/pretrain/checkpoints/sapiens_0.3b/sapiens_0.3b_epoch_1600_clean.pth on server: DESKTOP-404G4HS\n",
      "Done: Loaded checkpoint from /mnt/c/Users/PCM/Documents/GitHub/VideoUnderstanding/sapiens/pretrain/checkpoints/sapiens_0.3b/sapiens_0.3b_epoch_1600_clean.pth on server: DESKTOP-404G4HS\n",
      "The model and loaded state dict do not match exactly\n",
      "\n",
      "unexpected key in source state_dict: cls_token, pos_embed, patch_embed.projection.weight, patch_embed.projection.bias, layers.0.ln1.weight, layers.0.ln1.bias, layers.0.attn.qkv.weight, layers.0.attn.qkv.bias, layers.0.attn.proj.weight, layers.0.attn.proj.bias, layers.0.ln2.weight, layers.0.ln2.bias, layers.0.ffn.layers.0.0.weight, layers.0.ffn.layers.0.0.bias, layers.0.ffn.layers.1.weight, layers.0.ffn.layers.1.bias, layers.1.ln1.weight, layers.1.ln1.bias, layers.1.attn.qkv.weight, layers.1.attn.qkv.bias, layers.1.attn.proj.weight, layers.1.attn.proj.bias, layers.1.ln2.weight, layers.1.ln2.bias, layers.1.ffn.layers.0.0.weight, layers.1.ffn.layers.0.0.bias, layers.1.ffn.layers.1.weight, layers.1.ffn.layers.1.bias, layers.2.ln1.weight, layers.2.ln1.bias, layers.2.attn.qkv.weight, layers.2.attn.qkv.bias, layers.2.attn.proj.weight, layers.2.attn.proj.bias, layers.2.ln2.weight, layers.2.ln2.bias, layers.2.ffn.layers.0.0.weight, layers.2.ffn.layers.0.0.bias, layers.2.ffn.layers.1.weight, layers.2.ffn.layers.1.bias, layers.3.ln1.weight, layers.3.ln1.bias, layers.3.attn.qkv.weight, layers.3.attn.qkv.bias, layers.3.attn.proj.weight, layers.3.attn.proj.bias, layers.3.ln2.weight, layers.3.ln2.bias, layers.3.ffn.layers.0.0.weight, layers.3.ffn.layers.0.0.bias, layers.3.ffn.layers.1.weight, layers.3.ffn.layers.1.bias, layers.4.ln1.weight, layers.4.ln1.bias, layers.4.attn.qkv.weight, layers.4.attn.qkv.bias, layers.4.attn.proj.weight, layers.4.attn.proj.bias, layers.4.ln2.weight, layers.4.ln2.bias, layers.4.ffn.layers.0.0.weight, layers.4.ffn.layers.0.0.bias, layers.4.ffn.layers.1.weight, layers.4.ffn.layers.1.bias, layers.5.ln1.weight, layers.5.ln1.bias, layers.5.attn.qkv.weight, layers.5.attn.qkv.bias, layers.5.attn.proj.weight, layers.5.attn.proj.bias, layers.5.ln2.weight, layers.5.ln2.bias, layers.5.ffn.layers.0.0.weight, layers.5.ffn.layers.0.0.bias, layers.5.ffn.layers.1.weight, layers.5.ffn.layers.1.bias, layers.6.ln1.weight, layers.6.ln1.bias, layers.6.attn.qkv.weight, layers.6.attn.qkv.bias, layers.6.attn.proj.weight, layers.6.attn.proj.bias, layers.6.ln2.weight, layers.6.ln2.bias, layers.6.ffn.layers.0.0.weight, layers.6.ffn.layers.0.0.bias, layers.6.ffn.layers.1.weight, layers.6.ffn.layers.1.bias, layers.7.ln1.weight, layers.7.ln1.bias, layers.7.attn.qkv.weight, layers.7.attn.qkv.bias, layers.7.attn.proj.weight, layers.7.attn.proj.bias, layers.7.ln2.weight, layers.7.ln2.bias, layers.7.ffn.layers.0.0.weight, layers.7.ffn.layers.0.0.bias, layers.7.ffn.layers.1.weight, layers.7.ffn.layers.1.bias, layers.8.ln1.weight, layers.8.ln1.bias, layers.8.attn.qkv.weight, layers.8.attn.qkv.bias, layers.8.attn.proj.weight, layers.8.attn.proj.bias, layers.8.ln2.weight, layers.8.ln2.bias, layers.8.ffn.layers.0.0.weight, layers.8.ffn.layers.0.0.bias, layers.8.ffn.layers.1.weight, layers.8.ffn.layers.1.bias, layers.9.ln1.weight, layers.9.ln1.bias, layers.9.attn.qkv.weight, layers.9.attn.qkv.bias, layers.9.attn.proj.weight, layers.9.attn.proj.bias, layers.9.ln2.weight, layers.9.ln2.bias, layers.9.ffn.layers.0.0.weight, layers.9.ffn.layers.0.0.bias, layers.9.ffn.layers.1.weight, layers.9.ffn.layers.1.bias, layers.10.ln1.weight, layers.10.ln1.bias, layers.10.attn.qkv.weight, layers.10.attn.qkv.bias, layers.10.attn.proj.weight, layers.10.attn.proj.bias, layers.10.ln2.weight, layers.10.ln2.bias, layers.10.ffn.layers.0.0.weight, layers.10.ffn.layers.0.0.bias, layers.10.ffn.layers.1.weight, layers.10.ffn.layers.1.bias, layers.11.ln1.weight, layers.11.ln1.bias, layers.11.attn.qkv.weight, layers.11.attn.qkv.bias, layers.11.attn.proj.weight, layers.11.attn.proj.bias, layers.11.ln2.weight, layers.11.ln2.bias, layers.11.ffn.layers.0.0.weight, layers.11.ffn.layers.0.0.bias, layers.11.ffn.layers.1.weight, layers.11.ffn.layers.1.bias, layers.12.ln1.weight, layers.12.ln1.bias, layers.12.attn.qkv.weight, layers.12.attn.qkv.bias, layers.12.attn.proj.weight, layers.12.attn.proj.bias, layers.12.ln2.weight, layers.12.ln2.bias, layers.12.ffn.layers.0.0.weight, layers.12.ffn.layers.0.0.bias, layers.12.ffn.layers.1.weight, layers.12.ffn.layers.1.bias, layers.13.ln1.weight, layers.13.ln1.bias, layers.13.attn.qkv.weight, layers.13.attn.qkv.bias, layers.13.attn.proj.weight, layers.13.attn.proj.bias, layers.13.ln2.weight, layers.13.ln2.bias, layers.13.ffn.layers.0.0.weight, layers.13.ffn.layers.0.0.bias, layers.13.ffn.layers.1.weight, layers.13.ffn.layers.1.bias, layers.14.ln1.weight, layers.14.ln1.bias, layers.14.attn.qkv.weight, layers.14.attn.qkv.bias, layers.14.attn.proj.weight, layers.14.attn.proj.bias, layers.14.ln2.weight, layers.14.ln2.bias, layers.14.ffn.layers.0.0.weight, layers.14.ffn.layers.0.0.bias, layers.14.ffn.layers.1.weight, layers.14.ffn.layers.1.bias, layers.15.ln1.weight, layers.15.ln1.bias, layers.15.attn.qkv.weight, layers.15.attn.qkv.bias, layers.15.attn.proj.weight, layers.15.attn.proj.bias, layers.15.ln2.weight, layers.15.ln2.bias, layers.15.ffn.layers.0.0.weight, layers.15.ffn.layers.0.0.bias, layers.15.ffn.layers.1.weight, layers.15.ffn.layers.1.bias, layers.16.ln1.weight, layers.16.ln1.bias, layers.16.attn.qkv.weight, layers.16.attn.qkv.bias, layers.16.attn.proj.weight, layers.16.attn.proj.bias, layers.16.ln2.weight, layers.16.ln2.bias, layers.16.ffn.layers.0.0.weight, layers.16.ffn.layers.0.0.bias, layers.16.ffn.layers.1.weight, layers.16.ffn.layers.1.bias, layers.17.ln1.weight, layers.17.ln1.bias, layers.17.attn.qkv.weight, layers.17.attn.qkv.bias, layers.17.attn.proj.weight, layers.17.attn.proj.bias, layers.17.ln2.weight, layers.17.ln2.bias, layers.17.ffn.layers.0.0.weight, layers.17.ffn.layers.0.0.bias, layers.17.ffn.layers.1.weight, layers.17.ffn.layers.1.bias, layers.18.ln1.weight, layers.18.ln1.bias, layers.18.attn.qkv.weight, layers.18.attn.qkv.bias, layers.18.attn.proj.weight, layers.18.attn.proj.bias, layers.18.ln2.weight, layers.18.ln2.bias, layers.18.ffn.layers.0.0.weight, layers.18.ffn.layers.0.0.bias, layers.18.ffn.layers.1.weight, layers.18.ffn.layers.1.bias, layers.19.ln1.weight, layers.19.ln1.bias, layers.19.attn.qkv.weight, layers.19.attn.qkv.bias, layers.19.attn.proj.weight, layers.19.attn.proj.bias, layers.19.ln2.weight, layers.19.ln2.bias, layers.19.ffn.layers.0.0.weight, layers.19.ffn.layers.0.0.bias, layers.19.ffn.layers.1.weight, layers.19.ffn.layers.1.bias, layers.20.ln1.weight, layers.20.ln1.bias, layers.20.attn.qkv.weight, layers.20.attn.qkv.bias, layers.20.attn.proj.weight, layers.20.attn.proj.bias, layers.20.ln2.weight, layers.20.ln2.bias, layers.20.ffn.layers.0.0.weight, layers.20.ffn.layers.0.0.bias, layers.20.ffn.layers.1.weight, layers.20.ffn.layers.1.bias, layers.21.ln1.weight, layers.21.ln1.bias, layers.21.attn.qkv.weight, layers.21.attn.qkv.bias, layers.21.attn.proj.weight, layers.21.attn.proj.bias, layers.21.ln2.weight, layers.21.ln2.bias, layers.21.ffn.layers.0.0.weight, layers.21.ffn.layers.0.0.bias, layers.21.ffn.layers.1.weight, layers.21.ffn.layers.1.bias, layers.22.ln1.weight, layers.22.ln1.bias, layers.22.attn.qkv.weight, layers.22.attn.qkv.bias, layers.22.attn.proj.weight, layers.22.attn.proj.bias, layers.22.ln2.weight, layers.22.ln2.bias, layers.22.ffn.layers.0.0.weight, layers.22.ffn.layers.0.0.bias, layers.22.ffn.layers.1.weight, layers.22.ffn.layers.1.bias, layers.23.ln1.weight, layers.23.ln1.bias, layers.23.attn.qkv.weight, layers.23.attn.qkv.bias, layers.23.attn.proj.weight, layers.23.attn.proj.bias, layers.23.ln2.weight, layers.23.ln2.bias, layers.23.ffn.layers.0.0.weight, layers.23.ffn.layers.0.0.bias, layers.23.ffn.layers.1.weight, layers.23.ffn.layers.1.bias, ln1.weight, ln1.bias\n",
      "\n",
      "missing keys in source state_dict: backbone.cls_token, backbone.pos_embed, backbone.patch_embed.projection.weight, backbone.patch_embed.projection.bias, backbone.layers.0.ln1.weight, backbone.layers.0.ln1.bias, backbone.layers.0.attn.qkv.weight, backbone.layers.0.attn.qkv.bias, backbone.layers.0.attn.proj.weight, backbone.layers.0.attn.proj.bias, backbone.layers.0.ln2.weight, backbone.layers.0.ln2.bias, backbone.layers.0.ffn.layers.0.0.weight, backbone.layers.0.ffn.layers.0.0.bias, backbone.layers.0.ffn.layers.1.weight, backbone.layers.0.ffn.layers.1.bias, backbone.layers.1.ln1.weight, backbone.layers.1.ln1.bias, backbone.layers.1.attn.qkv.weight, backbone.layers.1.attn.qkv.bias, backbone.layers.1.attn.proj.weight, backbone.layers.1.attn.proj.bias, backbone.layers.1.ln2.weight, backbone.layers.1.ln2.bias, backbone.layers.1.ffn.layers.0.0.weight, backbone.layers.1.ffn.layers.0.0.bias, backbone.layers.1.ffn.layers.1.weight, backbone.layers.1.ffn.layers.1.bias, backbone.layers.2.ln1.weight, backbone.layers.2.ln1.bias, backbone.layers.2.attn.qkv.weight, backbone.layers.2.attn.qkv.bias, backbone.layers.2.attn.proj.weight, backbone.layers.2.attn.proj.bias, backbone.layers.2.ln2.weight, backbone.layers.2.ln2.bias, backbone.layers.2.ffn.layers.0.0.weight, backbone.layers.2.ffn.layers.0.0.bias, backbone.layers.2.ffn.layers.1.weight, backbone.layers.2.ffn.layers.1.bias, backbone.layers.3.ln1.weight, backbone.layers.3.ln1.bias, backbone.layers.3.attn.qkv.weight, backbone.layers.3.attn.qkv.bias, backbone.layers.3.attn.proj.weight, backbone.layers.3.attn.proj.bias, backbone.layers.3.ln2.weight, backbone.layers.3.ln2.bias, backbone.layers.3.ffn.layers.0.0.weight, backbone.layers.3.ffn.layers.0.0.bias, backbone.layers.3.ffn.layers.1.weight, backbone.layers.3.ffn.layers.1.bias, backbone.layers.4.ln1.weight, backbone.layers.4.ln1.bias, backbone.layers.4.attn.qkv.weight, backbone.layers.4.attn.qkv.bias, backbone.layers.4.attn.proj.weight, backbone.layers.4.attn.proj.bias, backbone.layers.4.ln2.weight, backbone.layers.4.ln2.bias, backbone.layers.4.ffn.layers.0.0.weight, backbone.layers.4.ffn.layers.0.0.bias, backbone.layers.4.ffn.layers.1.weight, backbone.layers.4.ffn.layers.1.bias, backbone.layers.5.ln1.weight, backbone.layers.5.ln1.bias, backbone.layers.5.attn.qkv.weight, backbone.layers.5.attn.qkv.bias, backbone.layers.5.attn.proj.weight, backbone.layers.5.attn.proj.bias, backbone.layers.5.ln2.weight, backbone.layers.5.ln2.bias, backbone.layers.5.ffn.layers.0.0.weight, backbone.layers.5.ffn.layers.0.0.bias, backbone.layers.5.ffn.layers.1.weight, backbone.layers.5.ffn.layers.1.bias, backbone.layers.6.ln1.weight, backbone.layers.6.ln1.bias, backbone.layers.6.attn.qkv.weight, backbone.layers.6.attn.qkv.bias, backbone.layers.6.attn.proj.weight, backbone.layers.6.attn.proj.bias, backbone.layers.6.ln2.weight, backbone.layers.6.ln2.bias, backbone.layers.6.ffn.layers.0.0.weight, backbone.layers.6.ffn.layers.0.0.bias, backbone.layers.6.ffn.layers.1.weight, backbone.layers.6.ffn.layers.1.bias, backbone.layers.7.ln1.weight, backbone.layers.7.ln1.bias, backbone.layers.7.attn.qkv.weight, backbone.layers.7.attn.qkv.bias, backbone.layers.7.attn.proj.weight, backbone.layers.7.attn.proj.bias, backbone.layers.7.ln2.weight, backbone.layers.7.ln2.bias, backbone.layers.7.ffn.layers.0.0.weight, backbone.layers.7.ffn.layers.0.0.bias, backbone.layers.7.ffn.layers.1.weight, backbone.layers.7.ffn.layers.1.bias, backbone.layers.8.ln1.weight, backbone.layers.8.ln1.bias, backbone.layers.8.attn.qkv.weight, backbone.layers.8.attn.qkv.bias, backbone.layers.8.attn.proj.weight, backbone.layers.8.attn.proj.bias, backbone.layers.8.ln2.weight, backbone.layers.8.ln2.bias, backbone.layers.8.ffn.layers.0.0.weight, backbone.layers.8.ffn.layers.0.0.bias, backbone.layers.8.ffn.layers.1.weight, backbone.layers.8.ffn.layers.1.bias, backbone.layers.9.ln1.weight, backbone.layers.9.ln1.bias, backbone.layers.9.attn.qkv.weight, backbone.layers.9.attn.qkv.bias, backbone.layers.9.attn.proj.weight, backbone.layers.9.attn.proj.bias, backbone.layers.9.ln2.weight, backbone.layers.9.ln2.bias, backbone.layers.9.ffn.layers.0.0.weight, backbone.layers.9.ffn.layers.0.0.bias, backbone.layers.9.ffn.layers.1.weight, backbone.layers.9.ffn.layers.1.bias, backbone.layers.10.ln1.weight, backbone.layers.10.ln1.bias, backbone.layers.10.attn.qkv.weight, backbone.layers.10.attn.qkv.bias, backbone.layers.10.attn.proj.weight, backbone.layers.10.attn.proj.bias, backbone.layers.10.ln2.weight, backbone.layers.10.ln2.bias, backbone.layers.10.ffn.layers.0.0.weight, backbone.layers.10.ffn.layers.0.0.bias, backbone.layers.10.ffn.layers.1.weight, backbone.layers.10.ffn.layers.1.bias, backbone.layers.11.ln1.weight, backbone.layers.11.ln1.bias, backbone.layers.11.attn.qkv.weight, backbone.layers.11.attn.qkv.bias, backbone.layers.11.attn.proj.weight, backbone.layers.11.attn.proj.bias, backbone.layers.11.ln2.weight, backbone.layers.11.ln2.bias, backbone.layers.11.ffn.layers.0.0.weight, backbone.layers.11.ffn.layers.0.0.bias, backbone.layers.11.ffn.layers.1.weight, backbone.layers.11.ffn.layers.1.bias, backbone.layers.12.ln1.weight, backbone.layers.12.ln1.bias, backbone.layers.12.attn.qkv.weight, backbone.layers.12.attn.qkv.bias, backbone.layers.12.attn.proj.weight, backbone.layers.12.attn.proj.bias, backbone.layers.12.ln2.weight, backbone.layers.12.ln2.bias, backbone.layers.12.ffn.layers.0.0.weight, backbone.layers.12.ffn.layers.0.0.bias, backbone.layers.12.ffn.layers.1.weight, backbone.layers.12.ffn.layers.1.bias, backbone.layers.13.ln1.weight, backbone.layers.13.ln1.bias, backbone.layers.13.attn.qkv.weight, backbone.layers.13.attn.qkv.bias, backbone.layers.13.attn.proj.weight, backbone.layers.13.attn.proj.bias, backbone.layers.13.ln2.weight, backbone.layers.13.ln2.bias, backbone.layers.13.ffn.layers.0.0.weight, backbone.layers.13.ffn.layers.0.0.bias, backbone.layers.13.ffn.layers.1.weight, backbone.layers.13.ffn.layers.1.bias, backbone.layers.14.ln1.weight, backbone.layers.14.ln1.bias, backbone.layers.14.attn.qkv.weight, backbone.layers.14.attn.qkv.bias, backbone.layers.14.attn.proj.weight, backbone.layers.14.attn.proj.bias, backbone.layers.14.ln2.weight, backbone.layers.14.ln2.bias, backbone.layers.14.ffn.layers.0.0.weight, backbone.layers.14.ffn.layers.0.0.bias, backbone.layers.14.ffn.layers.1.weight, backbone.layers.14.ffn.layers.1.bias, backbone.layers.15.ln1.weight, backbone.layers.15.ln1.bias, backbone.layers.15.attn.qkv.weight, backbone.layers.15.attn.qkv.bias, backbone.layers.15.attn.proj.weight, backbone.layers.15.attn.proj.bias, backbone.layers.15.ln2.weight, backbone.layers.15.ln2.bias, backbone.layers.15.ffn.layers.0.0.weight, backbone.layers.15.ffn.layers.0.0.bias, backbone.layers.15.ffn.layers.1.weight, backbone.layers.15.ffn.layers.1.bias, backbone.layers.16.ln1.weight, backbone.layers.16.ln1.bias, backbone.layers.16.attn.qkv.weight, backbone.layers.16.attn.qkv.bias, backbone.layers.16.attn.proj.weight, backbone.layers.16.attn.proj.bias, backbone.layers.16.ln2.weight, backbone.layers.16.ln2.bias, backbone.layers.16.ffn.layers.0.0.weight, backbone.layers.16.ffn.layers.0.0.bias, backbone.layers.16.ffn.layers.1.weight, backbone.layers.16.ffn.layers.1.bias, backbone.layers.17.ln1.weight, backbone.layers.17.ln1.bias, backbone.layers.17.attn.qkv.weight, backbone.layers.17.attn.qkv.bias, backbone.layers.17.attn.proj.weight, backbone.layers.17.attn.proj.bias, backbone.layers.17.ln2.weight, backbone.layers.17.ln2.bias, backbone.layers.17.ffn.layers.0.0.weight, backbone.layers.17.ffn.layers.0.0.bias, backbone.layers.17.ffn.layers.1.weight, backbone.layers.17.ffn.layers.1.bias, backbone.layers.18.ln1.weight, backbone.layers.18.ln1.bias, backbone.layers.18.attn.qkv.weight, backbone.layers.18.attn.qkv.bias, backbone.layers.18.attn.proj.weight, backbone.layers.18.attn.proj.bias, backbone.layers.18.ln2.weight, backbone.layers.18.ln2.bias, backbone.layers.18.ffn.layers.0.0.weight, backbone.layers.18.ffn.layers.0.0.bias, backbone.layers.18.ffn.layers.1.weight, backbone.layers.18.ffn.layers.1.bias, backbone.layers.19.ln1.weight, backbone.layers.19.ln1.bias, backbone.layers.19.attn.qkv.weight, backbone.layers.19.attn.qkv.bias, backbone.layers.19.attn.proj.weight, backbone.layers.19.attn.proj.bias, backbone.layers.19.ln2.weight, backbone.layers.19.ln2.bias, backbone.layers.19.ffn.layers.0.0.weight, backbone.layers.19.ffn.layers.0.0.bias, backbone.layers.19.ffn.layers.1.weight, backbone.layers.19.ffn.layers.1.bias, backbone.layers.20.ln1.weight, backbone.layers.20.ln1.bias, backbone.layers.20.attn.qkv.weight, backbone.layers.20.attn.qkv.bias, backbone.layers.20.attn.proj.weight, backbone.layers.20.attn.proj.bias, backbone.layers.20.ln2.weight, backbone.layers.20.ln2.bias, backbone.layers.20.ffn.layers.0.0.weight, backbone.layers.20.ffn.layers.0.0.bias, backbone.layers.20.ffn.layers.1.weight, backbone.layers.20.ffn.layers.1.bias, backbone.layers.21.ln1.weight, backbone.layers.21.ln1.bias, backbone.layers.21.attn.qkv.weight, backbone.layers.21.attn.qkv.bias, backbone.layers.21.attn.proj.weight, backbone.layers.21.attn.proj.bias, backbone.layers.21.ln2.weight, backbone.layers.21.ln2.bias, backbone.layers.21.ffn.layers.0.0.weight, backbone.layers.21.ffn.layers.0.0.bias, backbone.layers.21.ffn.layers.1.weight, backbone.layers.21.ffn.layers.1.bias, backbone.layers.22.ln1.weight, backbone.layers.22.ln1.bias, backbone.layers.22.attn.qkv.weight, backbone.layers.22.attn.qkv.bias, backbone.layers.22.attn.proj.weight, backbone.layers.22.attn.proj.bias, backbone.layers.22.ln2.weight, backbone.layers.22.ln2.bias, backbone.layers.22.ffn.layers.0.0.weight, backbone.layers.22.ffn.layers.0.0.bias, backbone.layers.22.ffn.layers.1.weight, backbone.layers.22.ffn.layers.1.bias, backbone.layers.23.ln1.weight, backbone.layers.23.ln1.bias, backbone.layers.23.attn.qkv.weight, backbone.layers.23.attn.qkv.bias, backbone.layers.23.attn.proj.weight, backbone.layers.23.attn.proj.bias, backbone.layers.23.ln2.weight, backbone.layers.23.ln2.bias, backbone.layers.23.ffn.layers.0.0.weight, backbone.layers.23.ffn.layers.0.0.bias, backbone.layers.23.ffn.layers.1.weight, backbone.layers.23.ffn.layers.1.bias, backbone.ln1.weight, backbone.ln1.bias, neck.mask_token, neck.decoder_pos_embed, neck.decoder_embed.weight, neck.decoder_embed.bias, neck.decoder_blocks.0.ln1.weight, neck.decoder_blocks.0.ln1.bias, neck.decoder_blocks.0.attn.qkv.weight, neck.decoder_blocks.0.attn.qkv.bias, neck.decoder_blocks.0.attn.proj.weight, neck.decoder_blocks.0.attn.proj.bias, neck.decoder_blocks.0.ln2.weight, neck.decoder_blocks.0.ln2.bias, neck.decoder_blocks.0.ffn.layers.0.0.weight, neck.decoder_blocks.0.ffn.layers.0.0.bias, neck.decoder_blocks.0.ffn.layers.1.weight, neck.decoder_blocks.0.ffn.layers.1.bias, neck.decoder_blocks.1.ln1.weight, neck.decoder_blocks.1.ln1.bias, neck.decoder_blocks.1.attn.qkv.weight, neck.decoder_blocks.1.attn.qkv.bias, neck.decoder_blocks.1.attn.proj.weight, neck.decoder_blocks.1.attn.proj.bias, neck.decoder_blocks.1.ln2.weight, neck.decoder_blocks.1.ln2.bias, neck.decoder_blocks.1.ffn.layers.0.0.weight, neck.decoder_blocks.1.ffn.layers.0.0.bias, neck.decoder_blocks.1.ffn.layers.1.weight, neck.decoder_blocks.1.ffn.layers.1.bias, neck.decoder_blocks.2.ln1.weight, neck.decoder_blocks.2.ln1.bias, neck.decoder_blocks.2.attn.qkv.weight, neck.decoder_blocks.2.attn.qkv.bias, neck.decoder_blocks.2.attn.proj.weight, neck.decoder_blocks.2.attn.proj.bias, neck.decoder_blocks.2.ln2.weight, neck.decoder_blocks.2.ln2.bias, neck.decoder_blocks.2.ffn.layers.0.0.weight, neck.decoder_blocks.2.ffn.layers.0.0.bias, neck.decoder_blocks.2.ffn.layers.1.weight, neck.decoder_blocks.2.ffn.layers.1.bias, neck.decoder_blocks.3.ln1.weight, neck.decoder_blocks.3.ln1.bias, neck.decoder_blocks.3.attn.qkv.weight, neck.decoder_blocks.3.attn.qkv.bias, neck.decoder_blocks.3.attn.proj.weight, neck.decoder_blocks.3.attn.proj.bias, neck.decoder_blocks.3.ln2.weight, neck.decoder_blocks.3.ln2.bias, neck.decoder_blocks.3.ffn.layers.0.0.weight, neck.decoder_blocks.3.ffn.layers.0.0.bias, neck.decoder_blocks.3.ffn.layers.1.weight, neck.decoder_blocks.3.ffn.layers.1.bias, neck.decoder_blocks.4.ln1.weight, neck.decoder_blocks.4.ln1.bias, neck.decoder_blocks.4.attn.qkv.weight, neck.decoder_blocks.4.attn.qkv.bias, neck.decoder_blocks.4.attn.proj.weight, neck.decoder_blocks.4.attn.proj.bias, neck.decoder_blocks.4.ln2.weight, neck.decoder_blocks.4.ln2.bias, neck.decoder_blocks.4.ffn.layers.0.0.weight, neck.decoder_blocks.4.ffn.layers.0.0.bias, neck.decoder_blocks.4.ffn.layers.1.weight, neck.decoder_blocks.4.ffn.layers.1.bias, neck.decoder_blocks.5.ln1.weight, neck.decoder_blocks.5.ln1.bias, neck.decoder_blocks.5.attn.qkv.weight, neck.decoder_blocks.5.attn.qkv.bias, neck.decoder_blocks.5.attn.proj.weight, neck.decoder_blocks.5.attn.proj.bias, neck.decoder_blocks.5.ln2.weight, neck.decoder_blocks.5.ln2.bias, neck.decoder_blocks.5.ffn.layers.0.0.weight, neck.decoder_blocks.5.ffn.layers.0.0.bias, neck.decoder_blocks.5.ffn.layers.1.weight, neck.decoder_blocks.5.ffn.layers.1.bias, neck.decoder_blocks.6.ln1.weight, neck.decoder_blocks.6.ln1.bias, neck.decoder_blocks.6.attn.qkv.weight, neck.decoder_blocks.6.attn.qkv.bias, neck.decoder_blocks.6.attn.proj.weight, neck.decoder_blocks.6.attn.proj.bias, neck.decoder_blocks.6.ln2.weight, neck.decoder_blocks.6.ln2.bias, neck.decoder_blocks.6.ffn.layers.0.0.weight, neck.decoder_blocks.6.ffn.layers.0.0.bias, neck.decoder_blocks.6.ffn.layers.1.weight, neck.decoder_blocks.6.ffn.layers.1.bias, neck.decoder_blocks.7.ln1.weight, neck.decoder_blocks.7.ln1.bias, neck.decoder_blocks.7.attn.qkv.weight, neck.decoder_blocks.7.attn.qkv.bias, neck.decoder_blocks.7.attn.proj.weight, neck.decoder_blocks.7.attn.proj.bias, neck.decoder_blocks.7.ln2.weight, neck.decoder_blocks.7.ln2.bias, neck.decoder_blocks.7.ffn.layers.0.0.weight, neck.decoder_blocks.7.ffn.layers.0.0.bias, neck.decoder_blocks.7.ffn.layers.1.weight, neck.decoder_blocks.7.ffn.layers.1.bias, neck.ln1.weight, neck.ln1.bias, neck.decoder_pred.weight, neck.decoder_pred.bias\n",
      "\n",
      "torch.Size([16, 1, 1024]) torch.Size([16, 784, 1024]) 8 28\n"
     ]
    }
   ],
   "source": [
    "import sys\n",
    "sys.path.append('/mnt/c/Users/PCM/Documents/GitHub/VideoUnderstanding/sapiens/pretrain')\n",
    "sys.path.append('/mnt/c/Users/PCM/Documents/GitHub/VideoUnderstanding/sapiens/pretrain/demo')\n",
    "from extract_feature import *\n",
    "\n",
    "import cv2\n",
    "import mmcv\n",
    "import mmengine\n",
    "import numpy as np\n",
    "from tqdm import tqdm\n",
    "import warnings\n",
    "\n",
    "import torch\n",
    "from timesformer.models.vit import TimePSformer, TimeSformer\n",
    "\n",
    "model = TimePSformer(img_size=448, num_classes=400, num_frames=8, attention_type='time_only')\n",
    "# model = TimeSformer(img_size=224, num_classes=400, num_frames=8, attention_type='divided_space_time')\n",
    "\n",
    "dummy_video = torch.randn(2, 3, 8, 448, 448) # (batch x channels x frames x height x width)\n",
    "\n",
    "pred = model(dummy_video,) # (2, 400)"
   ]
  },
  {
   "cell_type": "code",
   "execution_count": null,
   "metadata": {},
   "outputs": [],
   "source": []
  },
  {
   "cell_type": "code",
   "execution_count": 3,
   "metadata": {},
   "outputs": [
    {
     "data": {
      "text/plain": [
       "torch.Size([2, 400])"
      ]
     },
     "execution_count": 3,
     "metadata": {},
     "output_type": "execute_result"
    }
   ],
   "source": [
    "pred.shape"
   ]
  },
  {
   "cell_type": "code",
   "execution_count": 3,
   "metadata": {},
   "outputs": [
    {
     "data": {
      "text/plain": [
       "16.0"
      ]
     },
     "execution_count": 3,
     "metadata": {},
     "output_type": "execute_result"
    }
   ],
   "source": [
    "1024/64"
   ]
  },
  {
   "cell_type": "code",
   "execution_count": 4,
   "metadata": {},
   "outputs": [],
   "source": [
    "import torch.nn as nn\n",
    "# pool of square window of size=3, stride=2\n",
    "stride = 64//14\n",
    "kernelsize = 64-(14-1)*stride\n",
    "m = nn.MaxPool2d(kernelsize, stride=stride)\n",
    "# pool of non-square window\n",
    "m = nn.MaxPool2d((kernelsize, kernelsize), stride=(stride, stride))\n",
    "input = torch.randn(20, 16, 64, 64)\n",
    "output = m(input)"
   ]
  },
  {
   "cell_type": "code",
   "execution_count": null,
   "metadata": {},
   "outputs": [
    {
     "data": {
      "text/plain": [
       "196"
      ]
     },
     "execution_count": 4,
     "metadata": {},
     "output_type": "execute_result"
    }
   ],
   "source": [
    "14*14"
   ]
  },
  {
   "cell_type": "code",
   "execution_count": 5,
   "metadata": {},
   "outputs": [
    {
     "data": {
      "text/plain": [
       "torch.Size([20, 16, 14, 14])"
      ]
     },
     "execution_count": 5,
     "metadata": {},
     "output_type": "execute_result"
    }
   ],
   "source": [
    "output.shape"
   ]
  },
  {
   "cell_type": "code",
   "execution_count": null,
   "metadata": {},
   "outputs": [],
   "source": [
    "201326592/8192/8/3"
   ]
  },
  {
   "cell_type": "code",
   "execution_count": null,
   "metadata": {},
   "outputs": [],
   "source": [
    "201326592/8/3/2/12"
   ]
  }
 ],
 "metadata": {
  "kernelspec": {
   "display_name": "sapiens_lite2",
   "language": "python",
   "name": "python3"
  },
  "language_info": {
   "codemirror_mode": {
    "name": "ipython",
    "version": 3
   },
   "file_extension": ".py",
   "mimetype": "text/x-python",
   "name": "python",
   "nbconvert_exporter": "python",
   "pygments_lexer": "ipython3",
   "version": "3.10.15"
  }
 },
 "nbformat": 4,
 "nbformat_minor": 2
}
